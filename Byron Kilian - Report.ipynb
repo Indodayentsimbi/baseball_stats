{
 "cells": [
  {
   "cell_type": "markdown",
   "metadata": {},
   "source": [
    "# Summary"
   ]
  },
  {
   "cell_type": "markdown",
   "metadata": {},
   "source": [
    "The data set I used for this project is a set containing 1,157 baseball players (observations). This set has the following variables: <br>\n",
    "\n",
    "- PlayerName <br>\n",
    "- Handedness - (R/L/B) right or left or Both handed <br>\n",
    "- Height(inches) <br>\n",
    "- Weight(pounds) <br>\n",
    "- BattingAverage <br>\n",
    "- HomeRuns (HR) <br>\n",
    "\n",
    "I imported this set into Tableau as a csv file (text file). Split the fields into the above variables using the ',' as delimeter. Thereafter I converted each variable to the right datatype. <br>\n",
    "\n",
    "From the analysis I discoverd that most players have a weight that fall within the range of 70 kg - 85 kg, and a height within the range of 1.7 m - 2 m. The left handed players represented about 27% of the total observations within the sample and performed better than any of the other handed players, in terms of home runs and batting averages. <br>\n",
    "\n",
    "The left handed players had a 6% better median batting average compared to right handed players and a 3% better median batting average compared to both handed players. The left handed players had a 40% better median home run rate compared to right handed players and a 45% better median home run rate compared to both handed players. <br>\n",
    "\n",
    "The most common handed players was the right handed players which made up about 63% of the total observations and the least common was both handed players that only made up about 10% of the observations. For more details on the analysis process please read on. <br>\n",
    "\n",
    "To interact with the visuals please visit: <br>\n",
    "\n",
    "[Tableau round 1](https://public.tableau.com/profile/byronvisualisations#!/vizhome/Vizual_round1/Storyversion1) <br>\n",
    "[Tableau Final](https://public.tableau.com/profile/byronvisualisations#!/vizhome/Vizual_round2/StoryFinal)"
   ]
  },
  {
   "cell_type": "markdown",
   "metadata": {},
   "source": [
    "# Design"
   ]
  },
  {
   "cell_type": "markdown",
   "metadata": {},
   "source": [
    "First thing I want to do is to convert the measures to the metric system. I want to convert the height variable to meters and the weight variable to kg's. To do this I have to create calculated fields. <br>\n",
    "\n",
    "- Height(meters) = Height(inches)*0.0254 <br>\n",
    "- Weight(kg) = Weight(pounds)*0.453592 <br>\n",
    "\n",
    "Now that I have the data imported, the datatypes converted and new variables derived I'm ready to start building out visuals.\n",
    "In the next sections I'll explain my steps and thought process."
   ]
  },
  {
   "cell_type": "markdown",
   "metadata": {},
   "source": [
    "> ## (1) Single Variate plots"
   ]
  },
  {
   "cell_type": "markdown",
   "metadata": {},
   "source": [
    "> To understand the distribution of the continuous explanatory variables as well as to get a feel for the representation of observations within the data set I made use of two plot types - Bar charts and Histograms. <br>\n",
    "\n",
    "> My reason for choosing the Bar charts is because we are looking at a discrete categorical variable along with a continuous measure. The color coding is to highlight out each category. <br>\n",
    "\n",
    "> My reason for choosing the Histogram is because we are looking at the distribution of a continuous variable. The choice for having the handedness color is because its a discrete variable that will allow for the users to filter and see how the distribution changes for each category."
   ]
  },
  {
   "cell_type": "markdown",
   "metadata": {},
   "source": [
    "> ## (2) Bi Variate plots"
   ]
  },
  {
   "cell_type": "markdown",
   "metadata": {},
   "source": [
    "> To understand the relationship between some of the variables within the data set, I used scatter plots and box plots <br>\n",
    "\n",
    "> My reason for choosing the scatter plot type, Is because I  want to show the relationship between quantitative variables. This will allow to find any patterns thats hidden within the data. The color choice was to create a visual that seperates and identifies outliers from valid observations. <br>\n",
    "\n",
    "> My reason for choosing the box plots was to draw a clear comparison between the categorical handedness variable along with a quantitative measure. I color encoded the outliers and valid observations to indicate to the reader where those outlier values reside. I used the median statistic per categorical group as a reference line to show the difference in hight."
   ]
  },
  {
   "cell_type": "markdown",
   "metadata": {},
   "source": [
    "> ## (3) Multi Variate plots"
   ]
  },
  {
   "cell_type": "markdown",
   "metadata": {},
   "source": [
    "# Feedback"
   ]
  },
  {
   "cell_type": "markdown",
   "metadata": {},
   "source": [
    "Please let me know what you thought of the analysis and visuals. I will use this information to improve upon my work."
   ]
  },
  {
   "cell_type": "markdown",
   "metadata": {},
   "source": [
    "> ### How can I improve my analysis?"
   ]
  },
  {
   "cell_type": "markdown",
   "metadata": {},
   "source": [
    "> More depth of descriptions (describe the visuals better) <br>\n",
    "> Improve axis description <br>\n",
    "> Decribe (give more details) on how you would enrich the data to better support your statements <br>\n",
    "> By how much is one group better than the other (%)"
   ]
  },
  {
   "cell_type": "markdown",
   "metadata": {},
   "source": [
    "I reviewed the first point mentioned in the feedback and added more details to describe my thought process better. For the second point I noted that one of my visuals had a label that created confusion. I fixed this visual and renamed the axis to \"percentage of total\" for the first bar chart in the report.<br>\n",
    "\n",
    "For the 3rd point I released that I made statements of how one could improve on this analysis, but I never gave more details around my thought process of how one would go about doing it. In order to fix this I described in more detail how I would collect more data and how I would test for drawing inferences. <br>\n",
    "\n",
    "On the final point there was no indication of how much better one handed group was vs another. In order to fix this I created two additional bar charts with a table calculation that gets the percentage difference of handed groups compared to the left handed group. I added these plots to the report and describe what they represent."
   ]
  },
  {
   "cell_type": "markdown",
   "metadata": {},
   "source": [
    "# Resources"
   ]
  },
  {
   "cell_type": "markdown",
   "metadata": {},
   "source": [
    "[Help Online](https://www.tableau.com/support/help)"
   ]
  }
 ],
 "metadata": {
  "kernelspec": {
   "display_name": "Python 3",
   "language": "python",
   "name": "python3"
  },
  "language_info": {
   "codemirror_mode": {
    "name": "ipython",
    "version": 3
   },
   "file_extension": ".py",
   "mimetype": "text/x-python",
   "name": "python",
   "nbconvert_exporter": "python",
   "pygments_lexer": "ipython3",
   "version": "3.6.4"
  }
 },
 "nbformat": 4,
 "nbformat_minor": 2
}
